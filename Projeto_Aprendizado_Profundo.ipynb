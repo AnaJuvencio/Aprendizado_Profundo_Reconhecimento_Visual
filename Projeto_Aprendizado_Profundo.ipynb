{
  "nbformat": 4,
  "nbformat_minor": 0,
  "metadata": {
    "colab": {
      "provenance": [],
      "gpuType": "T4",
      "authorship_tag": "ABX9TyNvkwDAQ8Yp2oQsPy3Q9VeL",
      "include_colab_link": true
    },
    "kernelspec": {
      "name": "python3",
      "display_name": "Python 3"
    },
    "language_info": {
      "name": "python"
    },
    "accelerator": "GPU",
    "widgets": {
      "application/vnd.jupyter.widget-state+json": {
        "1617ae12654e4331ac82ff66dcfba6af": {
          "model_module": "@jupyter-widgets/controls",
          "model_name": "HBoxModel",
          "model_module_version": "1.5.0",
          "state": {
            "_dom_classes": [],
            "_model_module": "@jupyter-widgets/controls",
            "_model_module_version": "1.5.0",
            "_model_name": "HBoxModel",
            "_view_count": null,
            "_view_module": "@jupyter-widgets/controls",
            "_view_module_version": "1.5.0",
            "_view_name": "HBoxView",
            "box_style": "",
            "children": [
              "IPY_MODEL_48db91b18fff43ee853ccfc14793f3a9",
              "IPY_MODEL_43ad8b86fa3d466bb7647829291dc4a3",
              "IPY_MODEL_09f7139ea50b459ea8a0e49853380c63"
            ],
            "layout": "IPY_MODEL_62c272e261be473b8166fa79ad627129"
          }
        },
        "48db91b18fff43ee853ccfc14793f3a9": {
          "model_module": "@jupyter-widgets/controls",
          "model_name": "HTMLModel",
          "model_module_version": "1.5.0",
          "state": {
            "_dom_classes": [],
            "_model_module": "@jupyter-widgets/controls",
            "_model_module_version": "1.5.0",
            "_model_name": "HTMLModel",
            "_view_count": null,
            "_view_module": "@jupyter-widgets/controls",
            "_view_module_version": "1.5.0",
            "_view_name": "HTMLView",
            "description": "",
            "description_tooltip": null,
            "layout": "IPY_MODEL_19c9a0393fdd432da82619c35dc77381",
            "placeholder": "​",
            "style": "IPY_MODEL_ec5d50b3f6ef447f9794c591d827b910",
            "value": "README.md: 100%"
          }
        },
        "43ad8b86fa3d466bb7647829291dc4a3": {
          "model_module": "@jupyter-widgets/controls",
          "model_name": "FloatProgressModel",
          "model_module_version": "1.5.0",
          "state": {
            "_dom_classes": [],
            "_model_module": "@jupyter-widgets/controls",
            "_model_module_version": "1.5.0",
            "_model_name": "FloatProgressModel",
            "_view_count": null,
            "_view_module": "@jupyter-widgets/controls",
            "_view_module_version": "1.5.0",
            "_view_name": "ProgressView",
            "bar_style": "success",
            "description": "",
            "description_tooltip": null,
            "layout": "IPY_MODEL_6818e415913c4bfc9e23b8436d016f4e",
            "max": 21,
            "min": 0,
            "orientation": "horizontal",
            "style": "IPY_MODEL_fbde69a642d54cefb4c93c789c2130f8",
            "value": 21
          }
        },
        "09f7139ea50b459ea8a0e49853380c63": {
          "model_module": "@jupyter-widgets/controls",
          "model_name": "HTMLModel",
          "model_module_version": "1.5.0",
          "state": {
            "_dom_classes": [],
            "_model_module": "@jupyter-widgets/controls",
            "_model_module_version": "1.5.0",
            "_model_name": "HTMLModel",
            "_view_count": null,
            "_view_module": "@jupyter-widgets/controls",
            "_view_module_version": "1.5.0",
            "_view_name": "HTMLView",
            "description": "",
            "description_tooltip": null,
            "layout": "IPY_MODEL_de8bd369c23e4ebfa2a48449d9bde6cd",
            "placeholder": "​",
            "style": "IPY_MODEL_e7e2ab2501e949bd9e70edf0cd449577",
            "value": " 21.0/21.0 [00:00&lt;00:00, 378B/s]"
          }
        },
        "62c272e261be473b8166fa79ad627129": {
          "model_module": "@jupyter-widgets/base",
          "model_name": "LayoutModel",
          "model_module_version": "1.2.0",
          "state": {
            "_model_module": "@jupyter-widgets/base",
            "_model_module_version": "1.2.0",
            "_model_name": "LayoutModel",
            "_view_count": null,
            "_view_module": "@jupyter-widgets/base",
            "_view_module_version": "1.2.0",
            "_view_name": "LayoutView",
            "align_content": null,
            "align_items": null,
            "align_self": null,
            "border": null,
            "bottom": null,
            "display": null,
            "flex": null,
            "flex_flow": null,
            "grid_area": null,
            "grid_auto_columns": null,
            "grid_auto_flow": null,
            "grid_auto_rows": null,
            "grid_column": null,
            "grid_gap": null,
            "grid_row": null,
            "grid_template_areas": null,
            "grid_template_columns": null,
            "grid_template_rows": null,
            "height": null,
            "justify_content": null,
            "justify_items": null,
            "left": null,
            "margin": null,
            "max_height": null,
            "max_width": null,
            "min_height": null,
            "min_width": null,
            "object_fit": null,
            "object_position": null,
            "order": null,
            "overflow": null,
            "overflow_x": null,
            "overflow_y": null,
            "padding": null,
            "right": null,
            "top": null,
            "visibility": null,
            "width": null
          }
        },
        "19c9a0393fdd432da82619c35dc77381": {
          "model_module": "@jupyter-widgets/base",
          "model_name": "LayoutModel",
          "model_module_version": "1.2.0",
          "state": {
            "_model_module": "@jupyter-widgets/base",
            "_model_module_version": "1.2.0",
            "_model_name": "LayoutModel",
            "_view_count": null,
            "_view_module": "@jupyter-widgets/base",
            "_view_module_version": "1.2.0",
            "_view_name": "LayoutView",
            "align_content": null,
            "align_items": null,
            "align_self": null,
            "border": null,
            "bottom": null,
            "display": null,
            "flex": null,
            "flex_flow": null,
            "grid_area": null,
            "grid_auto_columns": null,
            "grid_auto_flow": null,
            "grid_auto_rows": null,
            "grid_column": null,
            "grid_gap": null,
            "grid_row": null,
            "grid_template_areas": null,
            "grid_template_columns": null,
            "grid_template_rows": null,
            "height": null,
            "justify_content": null,
            "justify_items": null,
            "left": null,
            "margin": null,
            "max_height": null,
            "max_width": null,
            "min_height": null,
            "min_width": null,
            "object_fit": null,
            "object_position": null,
            "order": null,
            "overflow": null,
            "overflow_x": null,
            "overflow_y": null,
            "padding": null,
            "right": null,
            "top": null,
            "visibility": null,
            "width": null
          }
        },
        "ec5d50b3f6ef447f9794c591d827b910": {
          "model_module": "@jupyter-widgets/controls",
          "model_name": "DescriptionStyleModel",
          "model_module_version": "1.5.0",
          "state": {
            "_model_module": "@jupyter-widgets/controls",
            "_model_module_version": "1.5.0",
            "_model_name": "DescriptionStyleModel",
            "_view_count": null,
            "_view_module": "@jupyter-widgets/base",
            "_view_module_version": "1.2.0",
            "_view_name": "StyleView",
            "description_width": ""
          }
        },
        "6818e415913c4bfc9e23b8436d016f4e": {
          "model_module": "@jupyter-widgets/base",
          "model_name": "LayoutModel",
          "model_module_version": "1.2.0",
          "state": {
            "_model_module": "@jupyter-widgets/base",
            "_model_module_version": "1.2.0",
            "_model_name": "LayoutModel",
            "_view_count": null,
            "_view_module": "@jupyter-widgets/base",
            "_view_module_version": "1.2.0",
            "_view_name": "LayoutView",
            "align_content": null,
            "align_items": null,
            "align_self": null,
            "border": null,
            "bottom": null,
            "display": null,
            "flex": null,
            "flex_flow": null,
            "grid_area": null,
            "grid_auto_columns": null,
            "grid_auto_flow": null,
            "grid_auto_rows": null,
            "grid_column": null,
            "grid_gap": null,
            "grid_row": null,
            "grid_template_areas": null,
            "grid_template_columns": null,
            "grid_template_rows": null,
            "height": null,
            "justify_content": null,
            "justify_items": null,
            "left": null,
            "margin": null,
            "max_height": null,
            "max_width": null,
            "min_height": null,
            "min_width": null,
            "object_fit": null,
            "object_position": null,
            "order": null,
            "overflow": null,
            "overflow_x": null,
            "overflow_y": null,
            "padding": null,
            "right": null,
            "top": null,
            "visibility": null,
            "width": null
          }
        },
        "fbde69a642d54cefb4c93c789c2130f8": {
          "model_module": "@jupyter-widgets/controls",
          "model_name": "ProgressStyleModel",
          "model_module_version": "1.5.0",
          "state": {
            "_model_module": "@jupyter-widgets/controls",
            "_model_module_version": "1.5.0",
            "_model_name": "ProgressStyleModel",
            "_view_count": null,
            "_view_module": "@jupyter-widgets/base",
            "_view_module_version": "1.2.0",
            "_view_name": "StyleView",
            "bar_color": null,
            "description_width": ""
          }
        },
        "de8bd369c23e4ebfa2a48449d9bde6cd": {
          "model_module": "@jupyter-widgets/base",
          "model_name": "LayoutModel",
          "model_module_version": "1.2.0",
          "state": {
            "_model_module": "@jupyter-widgets/base",
            "_model_module_version": "1.2.0",
            "_model_name": "LayoutModel",
            "_view_count": null,
            "_view_module": "@jupyter-widgets/base",
            "_view_module_version": "1.2.0",
            "_view_name": "LayoutView",
            "align_content": null,
            "align_items": null,
            "align_self": null,
            "border": null,
            "bottom": null,
            "display": null,
            "flex": null,
            "flex_flow": null,
            "grid_area": null,
            "grid_auto_columns": null,
            "grid_auto_flow": null,
            "grid_auto_rows": null,
            "grid_column": null,
            "grid_gap": null,
            "grid_row": null,
            "grid_template_areas": null,
            "grid_template_columns": null,
            "grid_template_rows": null,
            "height": null,
            "justify_content": null,
            "justify_items": null,
            "left": null,
            "margin": null,
            "max_height": null,
            "max_width": null,
            "min_height": null,
            "min_width": null,
            "object_fit": null,
            "object_position": null,
            "order": null,
            "overflow": null,
            "overflow_x": null,
            "overflow_y": null,
            "padding": null,
            "right": null,
            "top": null,
            "visibility": null,
            "width": null
          }
        },
        "e7e2ab2501e949bd9e70edf0cd449577": {
          "model_module": "@jupyter-widgets/controls",
          "model_name": "DescriptionStyleModel",
          "model_module_version": "1.5.0",
          "state": {
            "_model_module": "@jupyter-widgets/controls",
            "_model_module_version": "1.5.0",
            "_model_name": "DescriptionStyleModel",
            "_view_count": null,
            "_view_module": "@jupyter-widgets/base",
            "_view_module_version": "1.2.0",
            "_view_name": "StyleView",
            "description_width": ""
          }
        },
        "a8849da76b4d4ce1b16445c687795333": {
          "model_module": "@jupyter-widgets/controls",
          "model_name": "HBoxModel",
          "model_module_version": "1.5.0",
          "state": {
            "_dom_classes": [],
            "_model_module": "@jupyter-widgets/controls",
            "_model_module_version": "1.5.0",
            "_model_name": "HBoxModel",
            "_view_count": null,
            "_view_module": "@jupyter-widgets/controls",
            "_view_module_version": "1.5.0",
            "_view_name": "HBoxView",
            "box_style": "",
            "children": [
              "IPY_MODEL_0b70defb99ca48db85821837659d3fef",
              "IPY_MODEL_553ae6f2e3fc472295746cff504ba38d",
              "IPY_MODEL_d54865dd0c1646ceb658693f406bfa04"
            ],
            "layout": "IPY_MODEL_384b9d27747d4418afad0ec05d092914"
          }
        },
        "0b70defb99ca48db85821837659d3fef": {
          "model_module": "@jupyter-widgets/controls",
          "model_name": "HTMLModel",
          "model_module_version": "1.5.0",
          "state": {
            "_dom_classes": [],
            "_model_module": "@jupyter-widgets/controls",
            "_model_module_version": "1.5.0",
            "_model_name": "HTMLModel",
            "_view_count": null,
            "_view_module": "@jupyter-widgets/controls",
            "_view_module_version": "1.5.0",
            "_view_name": "HTMLView",
            "description": "",
            "description_tooltip": null,
            "layout": "IPY_MODEL_aede17c01e244d318be5cd19281d948f",
            "placeholder": "​",
            "style": "IPY_MODEL_2981d0d121414e2981a3f8a0aefef865",
            "value": "dataset-original.zip:   0%"
          }
        },
        "553ae6f2e3fc472295746cff504ba38d": {
          "model_module": "@jupyter-widgets/controls",
          "model_name": "FloatProgressModel",
          "model_module_version": "1.5.0",
          "state": {
            "_dom_classes": [],
            "_model_module": "@jupyter-widgets/controls",
            "_model_module_version": "1.5.0",
            "_model_name": "FloatProgressModel",
            "_view_count": null,
            "_view_module": "@jupyter-widgets/controls",
            "_view_module_version": "1.5.0",
            "_view_name": "ProgressView",
            "bar_style": "",
            "description": "",
            "description_tooltip": null,
            "layout": "IPY_MODEL_1c51c17601654cbf87ff2efeb3658e03",
            "max": 3634187193,
            "min": 0,
            "orientation": "horizontal",
            "style": "IPY_MODEL_2fa5785cfa5d4d88a281bf3420fc7825",
            "value": 0
          }
        },
        "d54865dd0c1646ceb658693f406bfa04": {
          "model_module": "@jupyter-widgets/controls",
          "model_name": "HTMLModel",
          "model_module_version": "1.5.0",
          "state": {
            "_dom_classes": [],
            "_model_module": "@jupyter-widgets/controls",
            "_model_module_version": "1.5.0",
            "_model_name": "HTMLModel",
            "_view_count": null,
            "_view_module": "@jupyter-widgets/controls",
            "_view_module_version": "1.5.0",
            "_view_name": "HTMLView",
            "description": "",
            "description_tooltip": null,
            "layout": "IPY_MODEL_c0d731eb9b1e4642bfc85abdb251eb20",
            "placeholder": "​",
            "style": "IPY_MODEL_b4311a72b7b2437da4e2a3794c46ad85",
            "value": " 0.00/3.63G [00:00&lt;?, ?B/s]"
          }
        },
        "384b9d27747d4418afad0ec05d092914": {
          "model_module": "@jupyter-widgets/base",
          "model_name": "LayoutModel",
          "model_module_version": "1.2.0",
          "state": {
            "_model_module": "@jupyter-widgets/base",
            "_model_module_version": "1.2.0",
            "_model_name": "LayoutModel",
            "_view_count": null,
            "_view_module": "@jupyter-widgets/base",
            "_view_module_version": "1.2.0",
            "_view_name": "LayoutView",
            "align_content": null,
            "align_items": null,
            "align_self": null,
            "border": null,
            "bottom": null,
            "display": null,
            "flex": null,
            "flex_flow": null,
            "grid_area": null,
            "grid_auto_columns": null,
            "grid_auto_flow": null,
            "grid_auto_rows": null,
            "grid_column": null,
            "grid_gap": null,
            "grid_row": null,
            "grid_template_areas": null,
            "grid_template_columns": null,
            "grid_template_rows": null,
            "height": null,
            "justify_content": null,
            "justify_items": null,
            "left": null,
            "margin": null,
            "max_height": null,
            "max_width": null,
            "min_height": null,
            "min_width": null,
            "object_fit": null,
            "object_position": null,
            "order": null,
            "overflow": null,
            "overflow_x": null,
            "overflow_y": null,
            "padding": null,
            "right": null,
            "top": null,
            "visibility": null,
            "width": null
          }
        },
        "aede17c01e244d318be5cd19281d948f": {
          "model_module": "@jupyter-widgets/base",
          "model_name": "LayoutModel",
          "model_module_version": "1.2.0",
          "state": {
            "_model_module": "@jupyter-widgets/base",
            "_model_module_version": "1.2.0",
            "_model_name": "LayoutModel",
            "_view_count": null,
            "_view_module": "@jupyter-widgets/base",
            "_view_module_version": "1.2.0",
            "_view_name": "LayoutView",
            "align_content": null,
            "align_items": null,
            "align_self": null,
            "border": null,
            "bottom": null,
            "display": null,
            "flex": null,
            "flex_flow": null,
            "grid_area": null,
            "grid_auto_columns": null,
            "grid_auto_flow": null,
            "grid_auto_rows": null,
            "grid_column": null,
            "grid_gap": null,
            "grid_row": null,
            "grid_template_areas": null,
            "grid_template_columns": null,
            "grid_template_rows": null,
            "height": null,
            "justify_content": null,
            "justify_items": null,
            "left": null,
            "margin": null,
            "max_height": null,
            "max_width": null,
            "min_height": null,
            "min_width": null,
            "object_fit": null,
            "object_position": null,
            "order": null,
            "overflow": null,
            "overflow_x": null,
            "overflow_y": null,
            "padding": null,
            "right": null,
            "top": null,
            "visibility": null,
            "width": null
          }
        },
        "2981d0d121414e2981a3f8a0aefef865": {
          "model_module": "@jupyter-widgets/controls",
          "model_name": "DescriptionStyleModel",
          "model_module_version": "1.5.0",
          "state": {
            "_model_module": "@jupyter-widgets/controls",
            "_model_module_version": "1.5.0",
            "_model_name": "DescriptionStyleModel",
            "_view_count": null,
            "_view_module": "@jupyter-widgets/base",
            "_view_module_version": "1.2.0",
            "_view_name": "StyleView",
            "description_width": ""
          }
        },
        "1c51c17601654cbf87ff2efeb3658e03": {
          "model_module": "@jupyter-widgets/base",
          "model_name": "LayoutModel",
          "model_module_version": "1.2.0",
          "state": {
            "_model_module": "@jupyter-widgets/base",
            "_model_module_version": "1.2.0",
            "_model_name": "LayoutModel",
            "_view_count": null,
            "_view_module": "@jupyter-widgets/base",
            "_view_module_version": "1.2.0",
            "_view_name": "LayoutView",
            "align_content": null,
            "align_items": null,
            "align_self": null,
            "border": null,
            "bottom": null,
            "display": null,
            "flex": null,
            "flex_flow": null,
            "grid_area": null,
            "grid_auto_columns": null,
            "grid_auto_flow": null,
            "grid_auto_rows": null,
            "grid_column": null,
            "grid_gap": null,
            "grid_row": null,
            "grid_template_areas": null,
            "grid_template_columns": null,
            "grid_template_rows": null,
            "height": null,
            "justify_content": null,
            "justify_items": null,
            "left": null,
            "margin": null,
            "max_height": null,
            "max_width": null,
            "min_height": null,
            "min_width": null,
            "object_fit": null,
            "object_position": null,
            "order": null,
            "overflow": null,
            "overflow_x": null,
            "overflow_y": null,
            "padding": null,
            "right": null,
            "top": null,
            "visibility": null,
            "width": null
          }
        },
        "2fa5785cfa5d4d88a281bf3420fc7825": {
          "model_module": "@jupyter-widgets/controls",
          "model_name": "ProgressStyleModel",
          "model_module_version": "1.5.0",
          "state": {
            "_model_module": "@jupyter-widgets/controls",
            "_model_module_version": "1.5.0",
            "_model_name": "ProgressStyleModel",
            "_view_count": null,
            "_view_module": "@jupyter-widgets/base",
            "_view_module_version": "1.2.0",
            "_view_name": "StyleView",
            "bar_color": null,
            "description_width": ""
          }
        },
        "c0d731eb9b1e4642bfc85abdb251eb20": {
          "model_module": "@jupyter-widgets/base",
          "model_name": "LayoutModel",
          "model_module_version": "1.2.0",
          "state": {
            "_model_module": "@jupyter-widgets/base",
            "_model_module_version": "1.2.0",
            "_model_name": "LayoutModel",
            "_view_count": null,
            "_view_module": "@jupyter-widgets/base",
            "_view_module_version": "1.2.0",
            "_view_name": "LayoutView",
            "align_content": null,
            "align_items": null,
            "align_self": null,
            "border": null,
            "bottom": null,
            "display": null,
            "flex": null,
            "flex_flow": null,
            "grid_area": null,
            "grid_auto_columns": null,
            "grid_auto_flow": null,
            "grid_auto_rows": null,
            "grid_column": null,
            "grid_gap": null,
            "grid_row": null,
            "grid_template_areas": null,
            "grid_template_columns": null,
            "grid_template_rows": null,
            "height": null,
            "justify_content": null,
            "justify_items": null,
            "left": null,
            "margin": null,
            "max_height": null,
            "max_width": null,
            "min_height": null,
            "min_width": null,
            "object_fit": null,
            "object_position": null,
            "order": null,
            "overflow": null,
            "overflow_x": null,
            "overflow_y": null,
            "padding": null,
            "right": null,
            "top": null,
            "visibility": null,
            "width": null
          }
        },
        "b4311a72b7b2437da4e2a3794c46ad85": {
          "model_module": "@jupyter-widgets/controls",
          "model_name": "DescriptionStyleModel",
          "model_module_version": "1.5.0",
          "state": {
            "_model_module": "@jupyter-widgets/controls",
            "_model_module_version": "1.5.0",
            "_model_name": "DescriptionStyleModel",
            "_view_count": null,
            "_view_module": "@jupyter-widgets/base",
            "_view_module_version": "1.2.0",
            "_view_name": "StyleView",
            "description_width": ""
          }
        }
      }
    }
  },
  "cells": [
    {
      "cell_type": "markdown",
      "metadata": {
        "id": "view-in-github",
        "colab_type": "text"
      },
      "source": [
        "<a href=\"https://colab.research.google.com/github/AnaJuvencio/Aprendizado_Profundo_Reconhecimento_Visual/blob/main/Projeto_Aprendizado_Profundo.ipynb\" target=\"_parent\"><img src=\"https://colab.research.google.com/assets/colab-badge.svg\" alt=\"Open In Colab\"/></a>"
      ]
    },
    {
      "cell_type": "code",
      "source": [
        "from google.colab import drive\n",
        "drive.mount('/content/drive')"
      ],
      "metadata": {
        "colab": {
          "base_uri": "https://localhost:8080/"
        },
        "id": "0fYX4D1695x2",
        "outputId": "09f17421-0bf1-4d1a-ed35-83d36b88c79f"
      },
      "execution_count": 2,
      "outputs": [
        {
          "output_type": "stream",
          "name": "stdout",
          "text": [
            "Mounted at /content/drive\n"
          ]
        }
      ]
    },
    {
      "cell_type": "code",
      "source": [
        "import os\n",
        "GOOGLE_DRIVE_PATH_AFTER_MYDRIVE = 'Colab_Notebooks'\n",
        "GOOGLE_DRIVE_PATH = os.path.join('drive', 'My Drive', GOOGLE_DRIVE_PATH_AFTER_MYDRIVE)\n",
        "print(os.listdir(GOOGLE_DRIVE_PATH))"
      ],
      "metadata": {
        "colab": {
          "base_uri": "https://localhost:8080/"
        },
        "id": "ONdIMSWr9_at",
        "outputId": "23d799b5-1ed1-4ec2-c9d1-d2ae79ee27b0"
      },
      "execution_count": 3,
      "outputs": [
        {
          "output_type": "stream",
          "name": "stdout",
          "text": [
            "['Projeto_Aprendizado_Profundo.ipynb']\n"
          ]
        }
      ]
    },
    {
      "cell_type": "markdown",
      "source": [
        "GPU + dependências"
      ],
      "metadata": {
        "id": "fV2IYiz0pMXp"
      }
    },
    {
      "cell_type": "code",
      "source": [
        "!nvidia-smi -L || echo \"Sem GPU detectada\"\n",
        "!pip -q install datasets tensorflow matplotlib scikit-learn pandas\n",
        "import tensorflow as tf\n",
        "print(\"GPUs detectadas:\", tf.config.list_physical_devices('GPU'))"
      ],
      "metadata": {
        "colab": {
          "base_uri": "https://localhost:8080/"
        },
        "id": "LdKDuUj-pN2l",
        "outputId": "a5a0248d-930d-488b-8f73-e42d9321253d"
      },
      "execution_count": 4,
      "outputs": [
        {
          "output_type": "stream",
          "name": "stdout",
          "text": [
            "/bin/bash: line 1: nvidia-smi: command not found\n",
            "Sem GPU detectada\n",
            "GPUs detectadas: []\n"
          ]
        }
      ]
    },
    {
      "cell_type": "markdown",
      "source": [
        "Seeds, mixed precision (opcional)"
      ],
      "metadata": {
        "id": "F8Fs16rOpWWH"
      }
    },
    {
      "cell_type": "code",
      "source": [
        "import os, random, numpy as np, tensorflow as tf\n",
        "SEED = 42\n",
        "random.seed(SEED); np.random.seed(SEED); tf.random.set_seed(SEED)\n",
        "\n",
        "try:\n",
        "    from tensorflow.keras import mixed_precision\n",
        "    mixed_precision.set_global_policy(\"mixed_float16\")\n",
        "    MIXED = True\n",
        "except Exception:\n",
        "    MIXED = False\n",
        "print(\"Mixed precision:\", MIXED)"
      ],
      "metadata": {
        "colab": {
          "base_uri": "https://localhost:8080/"
        },
        "id": "WSxpmteJpYH1",
        "outputId": "8aad1974-e5a1-41c0-eff2-ebd40d85884b"
      },
      "execution_count": 5,
      "outputs": [
        {
          "output_type": "stream",
          "name": "stdout",
          "text": [
            "Mixed precision: True\n"
          ]
        }
      ]
    },
    {
      "cell_type": "markdown",
      "source": [
        "Carregar TrashNet + split estratificado (80/10/10)"
      ],
      "metadata": {
        "id": "_OHo_G3dI12j"
      }
    },
    {
      "cell_type": "code",
      "execution_count": null,
      "metadata": {
        "colab": {
          "base_uri": "https://localhost:8080/",
          "height": 185,
          "referenced_widgets": [
            "1617ae12654e4331ac82ff66dcfba6af",
            "48db91b18fff43ee853ccfc14793f3a9",
            "43ad8b86fa3d466bb7647829291dc4a3",
            "09f7139ea50b459ea8a0e49853380c63",
            "62c272e261be473b8166fa79ad627129",
            "19c9a0393fdd432da82619c35dc77381",
            "ec5d50b3f6ef447f9794c591d827b910",
            "6818e415913c4bfc9e23b8436d016f4e",
            "fbde69a642d54cefb4c93c789c2130f8",
            "de8bd369c23e4ebfa2a48449d9bde6cd",
            "e7e2ab2501e949bd9e70edf0cd449577",
            "a8849da76b4d4ce1b16445c687795333",
            "0b70defb99ca48db85821837659d3fef",
            "553ae6f2e3fc472295746cff504ba38d",
            "d54865dd0c1646ceb658693f406bfa04",
            "384b9d27747d4418afad0ec05d092914",
            "aede17c01e244d318be5cd19281d948f",
            "2981d0d121414e2981a3f8a0aefef865",
            "1c51c17601654cbf87ff2efeb3658e03",
            "2fa5785cfa5d4d88a281bf3420fc7825",
            "c0d731eb9b1e4642bfc85abdb251eb20",
            "b4311a72b7b2437da4e2a3794c46ad85"
          ]
        },
        "id": "hLc9t3RuIQp9",
        "outputId": "cea35993-b7e2-4830-bd56-cedd7a5b0469"
      },
      "outputs": [
        {
          "output_type": "stream",
          "name": "stderr",
          "text": [
            "/usr/local/lib/python3.12/dist-packages/huggingface_hub/utils/_auth.py:94: UserWarning: \n",
            "The secret `HF_TOKEN` does not exist in your Colab secrets.\n",
            "To authenticate with the Hugging Face Hub, create a token in your settings tab (https://huggingface.co/settings/tokens), set it as secret in your Google Colab and restart your session.\n",
            "You will be able to reuse this secret in all of your notebooks.\n",
            "Please note that authentication is recommended but still optional to access public models or datasets.\n",
            "  warnings.warn(\n"
          ]
        },
        {
          "output_type": "display_data",
          "data": {
            "text/plain": [
              "README.md:   0%|          | 0.00/21.0 [00:00<?, ?B/s]"
            ],
            "application/vnd.jupyter.widget-view+json": {
              "version_major": 2,
              "version_minor": 0,
              "model_id": "1617ae12654e4331ac82ff66dcfba6af"
            }
          },
          "metadata": {}
        },
        {
          "output_type": "display_data",
          "data": {
            "text/plain": [
              "dataset-original.zip:   0%|          | 0.00/3.63G [00:00<?, ?B/s]"
            ],
            "application/vnd.jupyter.widget-view+json": {
              "version_major": 2,
              "version_minor": 0,
              "model_id": "a8849da76b4d4ce1b16445c687795333"
            }
          },
          "metadata": {}
        }
      ],
      "source": [
        "from datasets import load_dataset\n",
        "\n",
        "# (RE)CARREGA e REFAZ OS SPLITS — limpa qualquer transform antigo\n",
        "raw = load_dataset(\"garythung/trashnet\")\n",
        "splits = raw[\"train\"].train_test_split(test_size=0.2, stratify_by_column=\"label\", seed=SEED)\n",
        "tmp    = splits[\"test\"].train_test_split(test_size=0.5, stratify_by_column=\"label\", seed=SEED)\n",
        "ds = {\"train\": splits[\"train\"], \"val\": tmp[\"train\"], \"test\": tmp[\"test\"]}\n",
        "\n",
        "for k in ds: print(k, ds[k].num_rows)"
      ]
    },
    {
      "cell_type": "markdown",
      "source": [
        "Conferir chaves disponíveis"
      ],
      "metadata": {
        "id": "6QzfCQ88I_HT"
      }
    },
    {
      "cell_type": "code",
      "source": [
        "print(ds)\n",
        "print(ds['train'][0])"
      ],
      "metadata": {
        "id": "0emK-dLNJCPL"
      },
      "execution_count": null,
      "outputs": []
    },
    {
      "cell_type": "markdown",
      "source": [
        "tf.data “leve” (preprocess on-the-fly)"
      ],
      "metadata": {
        "id": "Zrjas1yJ-4ms"
      }
    },
    {
      "cell_type": "code",
      "source": [
        "# ===== PREPROCESS (sem with_transform) — fixa shape ANTES do batch =====\n",
        "import tensorflow as tf\n",
        "\n",
        "# 1) Converte para tf.data com batch=1 (cada item vem com shape próprio, sem conflitar)\n",
        "train_tf = ds[\"train\"].to_tf_dataset(columns=[\"image\"], label_cols=[\"label\"],\n",
        "                                     shuffle=True,  batch_size=1)\n",
        "val_tf   = ds[\"val\"].to_tf_dataset(columns=[\"image\"], label_cols=[\"label\"],\n",
        "                                   shuffle=False, batch_size=1)\n",
        "test_tf  = ds[\"test\"].to_tf_dataset(columns=[\"image\"], label_cols=[\"label\"],\n",
        "                                    shuffle=False, batch_size=1)\n",
        "\n",
        "# 2) Pré-processamento por batch (batch=1): uint8 -> float32 -> normalize -> resize\n",
        "def preprocess1(x, y):\n",
        "    x = tf.cast(x, tf.float32)/255.0\n",
        "    x = tf.image.resize(x, IMG_SIZE)      # garante shape fixo\n",
        "    return x, y\n",
        "\n",
        "train_tf = train_tf.map(preprocess1, num_parallel_calls=tf.data.AUTOTUNE)\n",
        "val_tf   = val_tf.map(preprocess1,   num_parallel_calls=tf.data.AUTOTUNE)\n",
        "test_tf  = test_tf.map(preprocess1,  num_parallel_calls=tf.data.AUTOTUNE)\n",
        "\n",
        "# 3) \"Desfaz\" o batch=1 e re-agrupa no BATCH_SIZE desejado\n",
        "train_tf = train_tf.unbatch().batch(BATCH_SIZE)\n",
        "val_tf   = val_tf.unbatch().batch(BATCH_SIZE)\n",
        "test_tf  = test_tf.unbatch().batch(BATCH_SIZE)\n",
        "\n",
        "# 4) Augmentação só no conjunto de treino\n",
        "augment = tf.keras.Sequential([\n",
        "    tf.keras.layers.RandomFlip(\"horizontal\"),\n",
        "    tf.keras.layers.RandomRotation(0.05),\n",
        "    tf.keras.layers.RandomZoom(0.1),\n",
        "])\n",
        "train_tf = train_tf.map(lambda x,y: (augment(x, training=True), y),\n",
        "                        num_parallel_calls=tf.data.AUTOTUNE)\n",
        "\n",
        "# 5) Prefetch\n",
        "train_tf = train_tf.prefetch(tf.data.AUTOTUNE)\n",
        "val_tf   = val_tf.prefetch(tf.data.AUTOTUNE)\n",
        "test_tf  = test_tf.prefetch(tf.data.AUTOTUNE)\n",
        "\n",
        "print(\"pipelines prontos:\", train_tf, val_tf, test_tf)"
      ],
      "metadata": {
        "id": "7o9nnrgU-5We"
      },
      "execution_count": null,
      "outputs": []
    },
    {
      "cell_type": "markdown",
      "source": [
        "Balanceamento: class weights"
      ],
      "metadata": {
        "id": "dHBRacQQIt3w"
      }
    },
    {
      "cell_type": "code",
      "source": [
        "from collections import Counter\n",
        "train_labels = [ex[\"label\"] for ex in ds[\"train\"]]\n",
        "freq = Counter(train_labels); total = sum(freq.values())\n",
        "class_weight = {c: total/(NUM_CLASSES*freq[c]) for c in freq}\n",
        "class_weight\n"
      ],
      "metadata": {
        "id": "tyEs_wb3Ixh-"
      },
      "execution_count": null,
      "outputs": []
    },
    {
      "cell_type": "markdown",
      "source": [
        "CNN baseline (simples)"
      ],
      "metadata": {
        "id": "z3p_ojNUG-FA"
      }
    },
    {
      "cell_type": "code",
      "source": [
        "from tensorflow import keras\n",
        "from tensorflow.keras import layers\n",
        "\n",
        "def build_cnn_baseline(input_shape=(160,160,3), num_classes=NUM_CLASSES, mixed=MIXED):\n",
        "    m = keras.Sequential(name=\"cnn_baseline\")\n",
        "    m.add(layers.Conv2D(32, 3, padding=\"same\", use_bias=False, input_shape=input_shape))\n",
        "    m.add(layers.BatchNormalization()); m.add(layers.ReLU()); m.add(layers.MaxPooling2D())\n",
        "    m.add(layers.Conv2D(64, 3, padding=\"same\", use_bias=False))\n",
        "    m.add(layers.BatchNormalization()); m.add(layers.ReLU()); m.add(layers.MaxPooling2D())\n",
        "    m.add(layers.Conv2D(128, 3, padding=\"same\", use_bias=False))\n",
        "    m.add(layers.BatchNormalization()); m.add(layers.ReLU()); m.add(layers.MaxPooling2D())\n",
        "    m.add(layers.Flatten()); m.add(layers.Dense(256, activation=\"relu\")); m.add(layers.Dropout(0.5))\n",
        "    m.add(layers.Dense(num_classes, activation=\"softmax\", dtype=\"float32\" if mixed else None))\n",
        "    return m\n",
        "\n",
        "model = build_cnn_baseline()\n",
        "model.compile(optimizer=keras.optimizers.Adam(1e-3),\n",
        "              loss=\"sparse_categorical_crossentropy\", metrics=[\"accuracy\"])\n",
        "model.summary()\n"
      ],
      "metadata": {
        "id": "EMIu8k4lHAJm"
      },
      "execution_count": null,
      "outputs": []
    },
    {
      "cell_type": "markdown",
      "source": [
        "Callbacks + treino (uma vez, com class_weight)"
      ],
      "metadata": {
        "id": "Wepe1v4FHDU7"
      }
    },
    {
      "cell_type": "code",
      "source": [
        "ckpt = keras.callbacks.ModelCheckpoint(\"cnn_baseline_best.keras\",\n",
        "                                       monitor=\"val_accuracy\", save_best_only=True)\n",
        "early = keras.callbacks.EarlyStopping(monitor=\"val_accuracy\", patience=7, restore_best_weights=True)\n",
        "reduce = keras.callbacks.ReduceLROnPlateau(monitor=\"val_loss\", factor=0.5, patience=3, min_lr=1e-6)\n",
        "\n",
        "history = model.fit(\n",
        "    train_tf,\n",
        "    validation_data=val_tf,\n",
        "    epochs=40,\n",
        "    callbacks=[ckpt, early, reduce],\n",
        "    class_weight=class_weight\n",
        ")"
      ],
      "metadata": {
        "id": "-_bjRLtRHKfU"
      },
      "execution_count": null,
      "outputs": []
    },
    {
      "cell_type": "markdown",
      "source": [
        "Curvas + salvar PNG/CSV"
      ],
      "metadata": {
        "id": "vYerlrapHNrt"
      }
    },
    {
      "cell_type": "code",
      "source": [
        "import matplotlib.pyplot as plt, pandas as pd\n",
        "\n",
        "hist_df = pd.DataFrame(history.history)\n",
        "hist_df.to_csv(\"cnn_baseline_history.csv\", index=False)\n",
        "\n",
        "plt.figure(); plt.plot(hist_df[\"accuracy\"], label=\"treino\"); plt.plot(hist_df[\"val_accuracy\"], label=\"val\")\n",
        "plt.title(\"Acurácia\"); plt.xlabel(\"Épocas\"); plt.ylabel(\"Acc\"); plt.legend(); plt.tight_layout()\n",
        "plt.savefig(\"acc_cnn_baseline.png\", dpi=150); plt.show()\n",
        "\n",
        "plt.figure(); plt.plot(hist_df[\"loss\"], label=\"treino\"); plt.plot(hist_df[\"val_loss\"], label=\"val\")\n",
        "plt.title(\"Perda (Loss)\"); plt.xlabel(\"Épocas\"); plt.ylabel(\"Loss\"); plt.legend(); plt.tight_layout()\n",
        "plt.savefig(\"loss_cnn_baseline.png\", dpi=150); plt.show()\n"
      ],
      "metadata": {
        "id": "rvjtxpiLHQHu"
      },
      "execution_count": null,
      "outputs": []
    },
    {
      "cell_type": "markdown",
      "source": [
        "Avaliação + matrizes"
      ],
      "metadata": {
        "id": "KZqHF105oma2"
      }
    },
    {
      "cell_type": "code",
      "source": [
        "import numpy as np\n",
        "from sklearn.metrics import confusion_matrix, classification_report, precision_recall_fscore_support\n",
        "import itertools\n",
        "\n",
        "test_loss, test_acc = model.evaluate(test_tf, verbose=0)\n",
        "print(f\"Acurácia (teste): {test_acc:.4f}\")\n",
        "\n",
        "y_true, y_pred = [], []\n",
        "for x,y in test_tf:\n",
        "    p = model.predict(x, verbose=0)\n",
        "    y_pred.extend(np.argmax(p, axis=1)); y_true.extend(y.numpy())\n",
        "\n",
        "print(\"\\nRelatório de classificação:\\n\",\n",
        "      classification_report(y_true, y_pred, target_names=CLASS_NAMES, digits=4))\n",
        "\n",
        "# salvar relatório por classe\n",
        "prec, rec, f1, sup = precision_recall_fscore_support(y_true, y_pred, labels=range(NUM_CLASSES))\n",
        "rep_df = pd.DataFrame({\"class\": CLASS_NAMES, \"precision\": prec, \"recall\": rec, \"f1\": f1, \"support\": sup})\n",
        "rep_df.to_csv(\"cnn_baseline_class_report.csv\", index=False)\n",
        "\n",
        "# matrizes\n",
        "cm = confusion_matrix(y_true, y_pred)\n",
        "cmn = cm.astype(\"float\")/cm.sum(axis=1, keepdims=True)\n",
        "\n",
        "def plot_cm(M, title, fname, fmt=\"d\"):\n",
        "    plt.figure(figsize=(6,5))\n",
        "    plt.imshow(M, interpolation=\"nearest\", cmap=plt.cm.Blues)\n",
        "    plt.title(title); plt.colorbar()\n",
        "    ticks = np.arange(NUM_CLASSES)\n",
        "    plt.xticks(ticks, CLASS_NAMES, rotation=45, ha=\"right\"); plt.yticks(ticks, CLASS_NAMES)\n",
        "    th = M.max()/2.\n",
        "    for i, j in itertools.product(range(M.shape[0]), range(M.shape[1])):\n",
        "        txt = f\"{M[i,j]:.2f}\" if fmt==\"0.2f\" else f\"{int(M[i,j])}\"\n",
        "        plt.text(j, i, txt, ha=\"center\", color=\"white\" if M[i,j] > th else \"black\")\n",
        "    plt.ylabel(\"Verdadeiro\"); plt.xlabel(\"Predito\"); plt.tight_layout()\n",
        "    plt.savefig(fname, dpi=150); plt.show()\n",
        "\n",
        "plot_cm(cm,  \"Matriz de Confusão (Absoluta)\",   \"cm_abs_cnn_baseline.png\", fmt=\"d\")\n",
        "plot_cm(cmn, \"Matriz de Confusão (Normalizada)\",\"cm_norm_cnn_baseline.png\", fmt=\"0.2f\")\n"
      ],
      "metadata": {
        "id": "ZcFrLxntonnb"
      },
      "execution_count": null,
      "outputs": []
    },
    {
      "cell_type": "markdown",
      "source": [
        "Curvas de aprendizado + salvar PNG"
      ],
      "metadata": {
        "id": "QFnrZzjmoqzr"
      }
    },
    {
      "cell_type": "code",
      "source": [
        "import matplotlib.pyplot as plt, pandas as pd\n",
        "\n",
        "hist_df = pd.DataFrame(history.history)\n",
        "hist_df.to_csv(\"cnn_baseline_history.csv\", index=False)\n",
        "\n",
        "plt.figure(); plt.plot(hist_df[\"accuracy\"], label=\"treino\"); plt.plot(hist_df[\"val_accuracy\"], label=\"val\")\n",
        "plt.title(\"Acurácia\"); plt.xlabel(\"Épocas\"); plt.ylabel(\"Acc\"); plt.legend(); plt.tight_layout(); plt.savefig(\"acc_cnn_baseline.png\", dpi=150); plt.show()\n",
        "\n",
        "plt.figure(); plt.plot(hist_df[\"loss\"], label=\"treino\"); plt.plot(hist_df[\"val_loss\"], label=\"val\")\n",
        "plt.title(\"Perda (Loss)\"); plt.xlabel(\"Épocas\"); plt.ylabel(\"Loss\"); plt.legend(); plt.tight_layout(); plt.savefig(\"loss_cnn_baseline.png\", dpi=150); plt.show()"
      ],
      "metadata": {
        "id": "Sz7vuRojorXV"
      },
      "execution_count": null,
      "outputs": []
    },
    {
      "cell_type": "markdown",
      "source": [
        "Opcional) MobileNetV2 TL + FT com 160×160"
      ],
      "metadata": {
        "id": "VDBIzApGowYv"
      }
    },
    {
      "cell_type": "code",
      "source": [
        "base = tf.keras.applications.MobileNetV2(input_shape=(160,160,3), include_top=False, weights=\"imagenet\")\n",
        "base.trainable = False\n",
        "tl = tf.keras.Sequential([\n",
        "    base,\n",
        "    tf.keras.layers.GlobalAveragePooling2D(),\n",
        "    tf.keras.layers.Dropout(0.2),\n",
        "    tf.keras.layers.Dense(NUM_CLASSES, activation=\"softmax\", dtype=\"float32\" if MIXED else None)\n",
        "], name=\"mobilenetv2_tl\")\n",
        "\n",
        "tl.compile(optimizer=tf.keras.optimizers.Adam(1e-3),\n",
        "           loss=\"sparse_categorical_crossentropy\", metrics=[\"accuracy\"])\n",
        "h1 = tl.fit(train_tf, validation_data=val_tf, epochs=10,\n",
        "            callbacks=[tf.keras.callbacks.EarlyStopping(patience=3, restore_best_weights=True)])\n",
        "\n",
        "# Fine-tuning (últimas ~40 camadas)\n",
        "base.trainable = True\n",
        "for layer in base.layers[:-40]:\n",
        "    layer.trainable = False\n",
        "\n",
        "tl.compile(optimizer=tf.keras.optimizers.Adam(1e-4),\n",
        "           loss=\"sparse_categorical_crossentropy\", metrics=[\"accuracy\"])\n",
        "h2 = tl.fit(train_tf, validation_data=val_tf, epochs=10,\n",
        "            callbacks=[tf.keras.callbacks.EarlyStopping(patience=3, restore_best_weights=True)])\n",
        "\n",
        "tl_test_acc = tl.evaluate(test_tf, verbose=0)[1]\n",
        "print(f\"MobileNetV2 (TL+FT) — Acurácia (teste): {tl_test_acc:.4f}\")\n"
      ],
      "metadata": {
        "id": "BNl-mSQUoyOC"
      },
      "execution_count": null,
      "outputs": []
    },
    {
      "cell_type": "markdown",
      "source": [
        "Limpar arquivo:"
      ],
      "metadata": {
        "id": "J6HG_C_h-lBO"
      }
    },
    {
      "cell_type": "code",
      "source": [
        "!jupyter nbconvert --ClearMetadataPreprocessor.enabled=True --to notebook --output limpado.ipynb seu_arquivo.ipynb"
      ],
      "metadata": {
        "id": "r3S7nUR8-jx4"
      },
      "execution_count": null,
      "outputs": []
    }
  ]
}